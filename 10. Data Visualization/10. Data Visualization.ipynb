{
 "cells": [
  {
   "cell_type": "markdown",
   "metadata": {},
   "source": [
    "## 10. Data Visualization\n",
    "### Introduction to Matplotlib:\n",
    "- Creating a line graph from data.\n",
    "- Changing the appearance of the line.\n",
    "- Zooming in on different parts of the axis.\n",
    "- Putting labels on titles and axes.\n",
    "- Creating a more complex figure layout.\n",
    "- Adding legends to graphs.\n",
    "- Changing tick labels and positions.\n",
    "- Saving what you've made."
   ]
  },
  {
   "cell_type": "markdown",
   "metadata": {},
   "source": [
    "***\n",
    "### Different Plot Types:\n",
    "- How to compare categories of data with bar graphs.\n",
    "- Add error bars to graphs.\n",
    "- Use __fill_between__ to display shaded error on line graphs.\n",
    "- Create stacked bar graphs for easier comparisons.\n",
    "- Create side-by-side bar graphs.\n",
    "- Create and format pie charts to compare proportional datasets.\n",
    "- Analyze frequency data using histograms, including multiple histograms on the same plot.\n",
    "- Normalize histograms."
   ]
  },
  {
   "cell_type": "markdown",
   "metadata": {},
   "source": [
    "***\n",
    "### To Review the Seaborn Workflow:\n",
    "1. Ingest data from a CSV file to Pandas DataFrame.<br>\n",
    "df = pd.read_csv('file_name.csv')\n",
    "2. Set sns.barplot() with desired values for x, y, and set data equal to your DataFrame.<br>\n",
    "sns.barplot(data=df, x='X-Values', y='Y-Values')\n",
    "3. Set desired values for estimator and hue parameters.<br>\n",
    "sns.barplot(data=df, x='X-Values', y='Y-Values', estimator=len, hue='Value')\n",
    "4. Render the plot using plt.show().<br>\n",
    "plt.show()"
   ]
  },
  {
   "cell_type": "markdown",
   "metadata": {},
   "source": [
    "***\n",
    "### Visualize Distributions:\n",
    "- __KDE plot__ - Kernel density estimator; shows a smoothed version of dataset. Use __sns.kdeplot()__.\n",
    "- __Box plot__ - A classic statistical model that shows the median, interquartile range, and outliers. Use __sns.boxplot()__.\n",
    "- __Violin plot__ - A combination of a KDE and a box plot. Good for showing multiple distributions at a time. Use __sns.violinplot()__."
   ]
  }
 ],
 "metadata": {
  "kernelspec": {
   "display_name": "Python 3",
   "language": "python",
   "name": "python3"
  },
  "language_info": {
   "codemirror_mode": {
    "name": "ipython",
    "version": 3
   },
   "file_extension": ".py",
   "mimetype": "text/x-python",
   "name": "python",
   "nbconvert_exporter": "python",
   "pygments_lexer": "ipython3",
   "version": "3.7.1"
  }
 },
 "nbformat": 4,
 "nbformat_minor": 2
}
