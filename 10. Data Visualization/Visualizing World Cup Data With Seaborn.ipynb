{
 "cells": [
  {
   "cell_type": "markdown",
   "metadata": {},
   "source": [
    "## Project - Visualizing World Cup Data With Seaborn"
   ]
  },
  {
   "cell_type": "markdown",
   "metadata": {},
   "source": [
    "Import the modules that you'll be using in this project:\n",
    "- from matplotlib import pyplot as plt\n",
    "- import pandas as pd\n",
    "- import seaborn as sns"
   ]
  },
  {
   "cell_type": "code",
   "execution_count": 1,
   "metadata": {},
   "outputs": [],
   "source": [
    "from matplotlib import pyplot as plt\n",
    "import pandas as pd\n",
    "import seaborn as sns"
   ]
  },
  {
   "cell_type": "markdown",
   "metadata": {},
   "source": [
    "Inspect the raw CSV files that you will be using in this project by selecting them in the file navigator.<br>\n",
    "Load WorldCupMatches.csv into a DataFrame called df. This will allow you to eventually plot the DataFrame with Seaborn."
   ]
  },
  {
   "cell_type": "code",
   "execution_count": 2,
   "metadata": {},
   "outputs": [],
   "source": [
    "df = pd.read_csv('WorldCupMatches.csv')"
   ]
  },
  {
   "cell_type": "markdown",
   "metadata": {},
   "source": [
    "It is usually a good idea to check any new DataFrame to make sure the results are as expected.<br>\n",
    "Inspect the DataFrame using .head(). Make sure to use print() to wrap any output you want to inspect."
   ]
  },
  {
   "cell_type": "code",
   "execution_count": 3,
   "metadata": {},
   "outputs": [
    {
     "name": "stdout",
     "output_type": "stream",
     "text": [
      "   Year              Datetime    Stage         Stadium         City  \\\n",
      "0  1930  13 Jul 1930 - 15:00   Group 1         Pocitos  Montevideo    \n",
      "1  1930  13 Jul 1930 - 15:00   Group 4  Parque Central  Montevideo    \n",
      "2  1930  14 Jul 1930 - 12:45   Group 2  Parque Central  Montevideo    \n",
      "3  1930  14 Jul 1930 - 14:50   Group 3         Pocitos  Montevideo    \n",
      "4  1930  15 Jul 1930 - 16:00   Group 1  Parque Central  Montevideo    \n",
      "\n",
      "  Home Team Name  Home Team Goals  Away Team Goals Away Team Name  \\\n",
      "0         France                4                1         Mexico   \n",
      "1            USA                3                0        Belgium   \n",
      "2     Yugoslavia                2                1         Brazil   \n",
      "3        Romania                3                1           Peru   \n",
      "4      Argentina                1                0         France   \n",
      "\n",
      "  Win conditions  Attendance  Half-time Home Goals  Half-time Away Goals  \\\n",
      "0                     4444.0                     3                     0   \n",
      "1                    18346.0                     2                     0   \n",
      "2                    24059.0                     2                     0   \n",
      "3                     2549.0                     1                     0   \n",
      "4                    23409.0                     0                     0   \n",
      "\n",
      "                  Referee               Assistant 1  \\\n",
      "0  LOMBARDI Domingo (URU)     CRISTOPHE Henry (BEL)   \n",
      "1       MACIAS Jose (ARG)  MATEUCCI Francisco (URU)   \n",
      "2     TEJADA Anibal (URU)   VALLARINO Ricardo (URU)   \n",
      "3   WARNKEN Alberto (CHI)       LANGENUS Jean (BEL)   \n",
      "4     REGO Gilberto (BRA)      SAUCEDO Ulises (BOL)   \n",
      "\n",
      "                  Assistant 2  RoundID  MatchID Home Team Initials  \\\n",
      "0         REGO Gilberto (BRA)      201     1096                FRA   \n",
      "1       WARNKEN Alberto (CHI)      201     1090                USA   \n",
      "2         BALWAY Thomas (FRA)      201     1093                YUG   \n",
      "3    MATEUCCI Francisco (URU)      201     1098                ROU   \n",
      "4  RADULESCU Constantin (ROU)      201     1085                ARG   \n",
      "\n",
      "  Away Team Initials  \n",
      "0                MEX  \n",
      "1                BEL  \n",
      "2                BRA  \n",
      "3                PER  \n",
      "4                FRA  \n"
     ]
    }
   ],
   "source": [
    "print(df.head())"
   ]
  },
  {
   "cell_type": "markdown",
   "metadata": {},
   "source": [
    "The data in WorldCupMatches.csv has the goals scored in each match broken up by goals for the home team and goals for the away team. We want to visualize the total number of goals scored in each match.<br>\n",
    "Create a new column in df named Total Goals, and set it equal to the sum of the columns Home Team Goals and Away Team Goals.<br>\n",
    "Print the results of df.head() to confirm your new column."
   ]
  },
  {
   "cell_type": "code",
   "execution_count": 4,
   "metadata": {},
   "outputs": [
    {
     "name": "stdout",
     "output_type": "stream",
     "text": [
      "   Year              Datetime    Stage         Stadium         City  \\\n",
      "0  1930  13 Jul 1930 - 15:00   Group 1         Pocitos  Montevideo    \n",
      "1  1930  13 Jul 1930 - 15:00   Group 4  Parque Central  Montevideo    \n",
      "2  1930  14 Jul 1930 - 12:45   Group 2  Parque Central  Montevideo    \n",
      "3  1930  14 Jul 1930 - 14:50   Group 3         Pocitos  Montevideo    \n",
      "4  1930  15 Jul 1930 - 16:00   Group 1  Parque Central  Montevideo    \n",
      "\n",
      "  Home Team Name  Home Team Goals  Away Team Goals Away Team Name  \\\n",
      "0         France                4                1         Mexico   \n",
      "1            USA                3                0        Belgium   \n",
      "2     Yugoslavia                2                1         Brazil   \n",
      "3        Romania                3                1           Peru   \n",
      "4      Argentina                1                0         France   \n",
      "\n",
      "  Win conditions     ...      Half-time Home Goals  Half-time Away Goals  \\\n",
      "0                    ...                         3                     0   \n",
      "1                    ...                         2                     0   \n",
      "2                    ...                         2                     0   \n",
      "3                    ...                         1                     0   \n",
      "4                    ...                         0                     0   \n",
      "\n",
      "                  Referee               Assistant 1  \\\n",
      "0  LOMBARDI Domingo (URU)     CRISTOPHE Henry (BEL)   \n",
      "1       MACIAS Jose (ARG)  MATEUCCI Francisco (URU)   \n",
      "2     TEJADA Anibal (URU)   VALLARINO Ricardo (URU)   \n",
      "3   WARNKEN Alberto (CHI)       LANGENUS Jean (BEL)   \n",
      "4     REGO Gilberto (BRA)      SAUCEDO Ulises (BOL)   \n",
      "\n",
      "                  Assistant 2 RoundID  MatchID  Home Team Initials  \\\n",
      "0         REGO Gilberto (BRA)     201     1096                 FRA   \n",
      "1       WARNKEN Alberto (CHI)     201     1090                 USA   \n",
      "2         BALWAY Thomas (FRA)     201     1093                 YUG   \n",
      "3    MATEUCCI Francisco (URU)     201     1098                 ROU   \n",
      "4  RADULESCU Constantin (ROU)     201     1085                 ARG   \n",
      "\n",
      "  Away Team Initials Total Goals  \n",
      "0                MEX           5  \n",
      "1                BEL           3  \n",
      "2                BRA           3  \n",
      "3                PER           4  \n",
      "4                FRA           1  \n",
      "\n",
      "[5 rows x 21 columns]\n"
     ]
    }
   ],
   "source": [
    "df['Total Goals'] = df['Home Team Goals'] + df['Away Team Goals']\n",
    "print(df.head())"
   ]
  },
  {
   "cell_type": "markdown",
   "metadata": {},
   "source": [
    "You are going to create a bar chart visualizing how many goals were scored each year the World Cup was held between 1930-2014.<br>\n",
    "Set the style of your plot to be whitegrid . This will add gridlines to the plot which will make it easier to read the visualization."
   ]
  },
  {
   "cell_type": "code",
   "execution_count": 5,
   "metadata": {},
   "outputs": [],
   "source": [
    "sns.set_style(\"whitegrid\")"
   ]
  },
  {
   "cell_type": "markdown",
   "metadata": {},
   "source": [
    "To make the text in your visualization bigger and easier to read, set the context to be poster.<br>\n",
    "If you would like to further adjust the font size of your plot, you can pass sns.set_context() a second optional argument using the keyword font_scale."
   ]
  },
  {
   "cell_type": "code",
   "execution_count": 6,
   "metadata": {},
   "outputs": [],
   "source": [
    "sns.set_context('poster', font_scale = 0.7)"
   ]
  },
  {
   "cell_type": "markdown",
   "metadata": {},
   "source": [
    "Create a figure and axes for your plot using the syntax:\n",
    "- f, ax = plt.subplots()\n",
    "\n",
    "Inside of plt.subplots(), set the size of the figure to be 12 inches wide and 7 inches tall.\n",
    "\n",
    "Using the data in df and the syntax:\n",
    "- ax = sns.barplot()\n",
    "\n",
    "visualize the columns Year and Total Goals as a bar chart.<br>\n",
    "Year should be on the x-axis, and Total Goals should be on the y-axis.\n",
    "\n",
    "Effective visualizations include a clear title.<br>\n",
    "Give your bar chart a meaningful title using ax.set_title().\n",
    "\n",
    "Render your bar chart so you can see it."
   ]
  },
  {
   "cell_type": "code",
   "execution_count": 7,
   "metadata": {},
   "outputs": [
    {
     "name": "stderr",
     "output_type": "stream",
     "text": [
      "D:\\zq755\\Anaconda3\\lib\\site-packages\\scipy\\stats\\stats.py:1713: FutureWarning: Using a non-tuple sequence for multidimensional indexing is deprecated; use `arr[tuple(seq)]` instead of `arr[seq]`. In the future this will be interpreted as an array index, `arr[np.array(seq)]`, which will result either in an error or a different result.\n",
      "  return np.add.reduce(sorted[indexer] * weights, axis=axis) / sumval\n"
     ]
    },
    {
     "data": {
      "image/png": "[encoded data removed]",
      "text/plain": [
       "<Figure size 864x504 with 1 Axes>"
      ]
     },
     "metadata": {},
     "output_type": "display_data"
    }
   ],
   "source": [
    "f, ax = plt.subplots(figsize=(12,7))\n",
    "ax = sns.barplot(data=df, x='Year', y='Total Goals')\n",
    "ax.set_title('Average Number Of Goals Scored In World Cup Matches By Year')\n",
    "\n",
    "plt.show()"
   ]
  },
  {
   "cell_type": "markdown",
   "metadata": {},
   "source": [
    "Now you are going to create a box plot so you can visualize the distribution of the goals data instead of just the average with a bar chart.<br>\n",
    "Load goals.csv into a DataFrame called df_goals, and take a quick look at the DataFrame using .head()."
   ]
  },
  {
   "cell_type": "code",
   "execution_count": 8,
   "metadata": {},
   "outputs": [
    {
     "name": "stdout",
     "output_type": "stream",
     "text": [
      "   goals home/away  year\n",
      "0      4      home  1930\n",
      "1      3      home  1930\n",
      "2      2      home  1930\n",
      "3      3      home  1930\n",
      "4      1      home  1930\n"
     ]
    }
   ],
   "source": [
    "df_goals = pd.read_csv('goals.csv')\n",
    "print(df_goals.head())"
   ]
  },
  {
   "cell_type": "markdown",
   "metadata": {},
   "source": [
    "Experimenting with different contexts and font scales can help you decide on the best context and font scale for the particular visualization.<br>\n",
    "Try setting the context of the plot to be notebook and the font_scale to be 1.25."
   ]
  },
  {
   "cell_type": "code",
   "execution_count": 9,
   "metadata": {},
   "outputs": [],
   "source": [
    "sns.set_context('notebook', font_scale = 1.25)"
   ]
  },
  {
   "cell_type": "markdown",
   "metadata": {},
   "source": [
    "Create a figure for your second plot.<br>\n",
    "Set the variables f, ax2 and instantiate a figure that is 12 inches wide and 7 inches tall.\n",
    "\n",
    "Set ax2 equal to a box plot with the color palette Spectral that visualizes the data in the DataFrame df_goals with the column year on the x-axis and goals on the y-axis.\n",
    "\n",
    "Give your box plot a meaningful and clear title.\n",
    "\n",
    "Render your box plot so you can see it."
   ]
  },
  {
   "cell_type": "code",
   "execution_count": 10,
   "metadata": {},
   "outputs": [
    {
     "data": {
      "image/png": "[encoded data removed]",
      "text/plain": [
       "<Figure size 864x504 with 1 Axes>"
      ]
     },
     "metadata": {},
     "output_type": "display_data"
    }
   ],
   "source": [
    "f, ax2 = plt.subplots(figsize=(12,7))\n",
    "ax2 = sns.boxplot(data=df_goals, x='year', y='goals', palette='Spectral')\n",
    "ax2.set_title('Goals Visualization')\n",
    "\n",
    "plt.show()"
   ]
  }
 ],
 "metadata": {
  "kernelspec": {
   "display_name": "Python 3",
   "language": "python",
   "name": "python3"
  },
  "language_info": {
   "codemirror_mode": {
    "name": "ipython",
    "version": 3
   },
   "file_extension": ".py",
   "mimetype": "text/x-python",
   "name": "python",
   "nbconvert_exporter": "python",
   "pygments_lexer": "ipython3",
   "version": "3.7.1"
  }
 },
 "nbformat": 4,
 "nbformat_minor": 2
}
