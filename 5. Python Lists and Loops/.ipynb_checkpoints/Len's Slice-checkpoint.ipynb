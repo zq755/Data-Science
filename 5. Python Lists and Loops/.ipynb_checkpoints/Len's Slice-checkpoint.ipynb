{
 "cells": [
  {
   "cell_type": "markdown",
   "metadata": {},
   "source": [
    "## Project - Len's Slice"
   ]
  },
  {
   "cell_type": "markdown",
   "metadata": {},
   "source": [
    "To keep track of the kinds of pizzas you sell, create a list called toppings that holds the following:\n",
    "- pepperoni\n",
    "- pineapple\n",
    "- cheese\n",
    "- sausage\n",
    "- olives\n",
    "- anchovies\n",
    "- mushrooms"
   ]
  },
  {
   "cell_type": "code",
   "execution_count": 1,
   "metadata": {},
   "outputs": [],
   "source": [
    "toppings = ['pepperoni', 'pineapple', 'cheese', 'sausage', 'olives', 'anchovies', 'mushrooms']"
   ]
  },
  {
   "cell_type": "markdown",
   "metadata": {},
   "source": [
    "To keep track of how much each kind of pizza slice costs, create a list called prices that holds:\n",
    "- 2\n",
    "- 6\n",
    "- 1\n",
    "- 3\n",
    "- 2\n",
    "- 7\n",
    "- 2"
   ]
  },
  {
   "cell_type": "code",
   "execution_count": 2,
   "metadata": {},
   "outputs": [],
   "source": [
    "prices = [2, 6, 1, 3, 2, 7, 2]"
   ]
  },
  {
   "cell_type": "markdown",
   "metadata": {},
   "source": [
    "Find the length of the toppings list and store it in a variable called num_pizzas."
   ]
  },
  {
   "cell_type": "code",
   "execution_count": 3,
   "metadata": {},
   "outputs": [],
   "source": [
    "num_pizzas = len(toppings)"
   ]
  },
  {
   "cell_type": "markdown",
   "metadata": {},
   "source": [
    "Print the string \"We sell X different kinds of pizza!\", with num_pizzas where the X is."
   ]
  },
  {
   "cell_type": "code",
   "execution_count": 4,
   "metadata": {},
   "outputs": [
    {
     "name": "stdout",
     "output_type": "stream",
     "text": [
      "We sell 7 different kinds of pizza!\n"
     ]
    }
   ],
   "source": [
    "print('We sell %i different kinds of pizza!' %num_pizzas)"
   ]
  },
  {
   "cell_type": "markdown",
   "metadata": {},
   "source": [
    "Use zip to combine the two lists into a list called pizzas that has the structure:\n",
    "- [(price_0, topping_0), (price_1, topping_1), (price_2, topping_2), ...]\n",
    "\n",
    "In order to make the result of zip a list, do the following:\n",
    "- list(zip(____, ____))"
   ]
  },
  {
   "cell_type": "code",
   "execution_count": 5,
   "metadata": {},
   "outputs": [],
   "source": [
    "pizzas = list(zip(prices, toppings))"
   ]
  },
  {
   "cell_type": "markdown",
   "metadata": {},
   "source": [
    "Print pizzas.<br>\n",
    "Does it look the way you expect?"
   ]
  },
  {
   "cell_type": "code",
   "execution_count": 6,
   "metadata": {},
   "outputs": [
    {
     "name": "stdout",
     "output_type": "stream",
     "text": [
      "[(2, 'pepperoni'), (6, 'pineapple'), (1, 'cheese'), (3, 'sausage'), (2, 'olives'), (7, 'anchovies'), (2, 'mushrooms')]\n"
     ]
    }
   ],
   "source": [
    "print(pizzas)"
   ]
  },
  {
   "cell_type": "markdown",
   "metadata": {},
   "source": [
    "Sort pizzas so that the pizzas with the lowest prices are at the start of the list."
   ]
  },
  {
   "cell_type": "code",
   "execution_count": 7,
   "metadata": {},
   "outputs": [
    {
     "name": "stdout",
     "output_type": "stream",
     "text": [
      "[(1, 'cheese'), (2, 'mushrooms'), (2, 'olives'), (2, 'pepperoni'), (3, 'sausage'), (6, 'pineapple'), (7, 'anchovies')]\n"
     ]
    }
   ],
   "source": [
    "pizzas.sort()\n",
    "\n",
    "print(pizzas)"
   ]
  },
  {
   "cell_type": "markdown",
   "metadata": {},
   "source": [
    "Store the first element of pizzas in a variable called cheapest_pizza."
   ]
  },
  {
   "cell_type": "code",
   "execution_count": 8,
   "metadata": {},
   "outputs": [
    {
     "name": "stdout",
     "output_type": "stream",
     "text": [
      "(1, 'cheese')\n"
     ]
    }
   ],
   "source": [
    "cheapest_pizza = pizzas[0]\n",
    "\n",
    "print(cheapest_pizza)"
   ]
  },
  {
   "cell_type": "markdown",
   "metadata": {},
   "source": [
    "A man in a business suit walks in and shouts \"I will have your MOST EXPENSIVE pizza!\"<br>\n",
    "Get the last item of the pizzas list and store it in a variable called priciest_pizza."
   ]
  },
  {
   "cell_type": "code",
   "execution_count": 9,
   "metadata": {},
   "outputs": [
    {
     "name": "stdout",
     "output_type": "stream",
     "text": [
      "(7, 'anchovies')\n"
     ]
    }
   ],
   "source": [
    "priciest_pizza = pizzas[-1]\n",
    "\n",
    "print(priciest_pizza)"
   ]
  },
  {
   "cell_type": "markdown",
   "metadata": {},
   "source": [
    "Three mice walk into the store. They don't have much money (they're mice), but they do each want different pizzas.<br>\n",
    "Slice the pizzas list and store the 3 lowest cost pizzas in a list called three_cheapest."
   ]
  },
  {
   "cell_type": "code",
   "execution_count": 10,
   "metadata": {},
   "outputs": [],
   "source": [
    "three_cheapest = pizzas[:3]"
   ]
  },
  {
   "cell_type": "markdown",
   "metadata": {},
   "source": [
    "Print the three_cheapest list."
   ]
  },
  {
   "cell_type": "code",
   "execution_count": 11,
   "metadata": {},
   "outputs": [
    {
     "name": "stdout",
     "output_type": "stream",
     "text": [
      "[(1, 'cheese'), (2, 'mushrooms'), (2, 'olives')]\n"
     ]
    }
   ],
   "source": [
    "print(three_cheapest)"
   ]
  },
  {
   "cell_type": "markdown",
   "metadata": {},
   "source": [
    "Your boss wants you to do some research on $2 slices.<br>\n",
    "Count the number of occurrences of 2 in the prices list, and store the result in a variable called num_two_dollar_slices. Print it out."
   ]
  },
  {
   "cell_type": "code",
   "execution_count": 12,
   "metadata": {},
   "outputs": [
    {
     "name": "stdout",
     "output_type": "stream",
     "text": [
      "3\n"
     ]
    }
   ],
   "source": [
    "num_two_dollar_slices = prices.count(2)\n",
    "print(num_two_dollar_slices)"
   ]
  }
 ],
 "metadata": {
  "kernelspec": {
   "display_name": "Python 3",
   "language": "python",
   "name": "python3"
  },
  "language_info": {
   "codemirror_mode": {
    "name": "ipython",
    "version": 3
   },
   "file_extension": ".py",
   "mimetype": "text/x-python",
   "name": "python",
   "nbconvert_exporter": "python",
   "pygments_lexer": "ipython3",
   "version": "3.7.1"
  }
 },
 "nbformat": 4,
 "nbformat_minor": 2
}
