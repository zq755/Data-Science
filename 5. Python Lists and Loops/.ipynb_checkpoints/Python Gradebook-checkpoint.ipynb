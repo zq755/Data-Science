{
 "cells": [
  {
   "cell_type": "markdown",
   "metadata": {},
   "source": [
    "## Project - Python Gradebook"
   ]
  },
  {
   "cell_type": "code",
   "execution_count": 1,
   "metadata": {},
   "outputs": [],
   "source": [
    "last_semester_gradebook = [(\"politics\", 80), (\"latin\", 96), (\"dance\", 97), (\"architecture\", 65)]"
   ]
  },
  {
   "cell_type": "markdown",
   "metadata": {},
   "source": [
    "Create a list called subjects and fill it with the classes you are taking:\n",
    "- \"physics\"\n",
    "- \"calculus\"\n",
    "- \"poetry\"\n",
    "- \"history\""
   ]
  },
  {
   "cell_type": "code",
   "execution_count": 2,
   "metadata": {},
   "outputs": [],
   "source": [
    "subjects = ['physics', 'calculus', 'poetry', 'history']"
   ]
  },
  {
   "cell_type": "markdown",
   "metadata": {},
   "source": [
    "Create a list called grades and fill it with your scores:\n",
    "- 98\n",
    "- 97\n",
    "- 85\n",
    "- 88"
   ]
  },
  {
   "cell_type": "code",
   "execution_count": 3,
   "metadata": {},
   "outputs": [],
   "source": [
    "grades = [98, 97, 85, 88]"
   ]
  },
  {
   "cell_type": "markdown",
   "metadata": {},
   "source": [
    "Use the zip() function to combine subjects and grades.<br>\n",
    "Save this zip object as a list into a variable called gradebook."
   ]
  },
  {
   "cell_type": "code",
   "execution_count": 4,
   "metadata": {},
   "outputs": [],
   "source": [
    "gradebook = list(zip(subjects, grades))"
   ]
  },
  {
   "cell_type": "markdown",
   "metadata": {},
   "source": [
    "Print gradebook.<br>\n",
    "Does it look how you expected it would?"
   ]
  },
  {
   "cell_type": "code",
   "execution_count": 5,
   "metadata": {},
   "outputs": [
    {
     "name": "stdout",
     "output_type": "stream",
     "text": [
      "[('physics', 98), ('calculus', 97), ('poetry', 85), ('history', 88)]\n"
     ]
    }
   ],
   "source": [
    "print(gradebook)"
   ]
  },
  {
   "cell_type": "markdown",
   "metadata": {},
   "source": [
    "Your grade for Computer Science class just came in! You got a perfect score, 100!<br>\n",
    "After your definitions of subjects and grades but before you create gradebook, use append to add \"computer science\" to subjects and 100 to grades."
   ]
  },
  {
   "cell_type": "code",
   "execution_count": 6,
   "metadata": {},
   "outputs": [
    {
     "name": "stdout",
     "output_type": "stream",
     "text": [
      "[('physics', 98), ('calculus', 97), ('poetry', 85), ('history', 88), ('computer science', 100)]\n"
     ]
    }
   ],
   "source": [
    "subjects.append(\"computer science\")\n",
    "grades.append(100)\n",
    "\n",
    "gradebook = list(zip(subjects, grades))\n",
    "print(gradebook)"
   ]
  },
  {
   "cell_type": "markdown",
   "metadata": {},
   "source": [
    "Your grade for visual arts just came in! You got a 93!<br>\n",
    "After the creation of gradebook (but before you print it out), use append to add (\"visual arts\", 93) to gradebook."
   ]
  },
  {
   "cell_type": "code",
   "execution_count": 7,
   "metadata": {},
   "outputs": [
    {
     "name": "stdout",
     "output_type": "stream",
     "text": [
      "[('physics', 98), ('calculus', 97), ('poetry', 85), ('history', 88), ('computer science', 100), ('visual arts', 93)]\n"
     ]
    }
   ],
   "source": [
    "gradebook.append(('visual arts', 93))\n",
    "\n",
    "print(gradebook)"
   ]
  },
  {
   "cell_type": "markdown",
   "metadata": {},
   "source": [
    "You also have your grades from last semester, stored in last_semester_gradebook. Create a new variable full_gradebook with the items from both gradebook and last_semester_gradebook."
   ]
  },
  {
   "cell_type": "code",
   "execution_count": 8,
   "metadata": {},
   "outputs": [
    {
     "name": "stdout",
     "output_type": "stream",
     "text": [
      "[('physics', 98), ('calculus', 97), ('poetry', 85), ('history', 88), ('computer science', 100), ('visual arts', 93), ('politics', 80), ('latin', 96), ('dance', 97), ('architecture', 65)]\n"
     ]
    }
   ],
   "source": [
    "full_gradebook = gradebook + last_semester_gradebook\n",
    "\n",
    "print(full_gradebook)"
   ]
  }
 ],
 "metadata": {
  "kernelspec": {
   "display_name": "Python 3",
   "language": "python",
   "name": "python3"
  },
  "language_info": {
   "codemirror_mode": {
    "name": "ipython",
    "version": 3
   },
   "file_extension": ".py",
   "mimetype": "text/x-python",
   "name": "python",
   "nbconvert_exporter": "python",
   "pygments_lexer": "ipython3",
   "version": "3.7.1"
  }
 },
 "nbformat": 4,
 "nbformat_minor": 2
}
