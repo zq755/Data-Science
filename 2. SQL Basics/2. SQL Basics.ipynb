{
 "cells": [
  {
   "cell_type": "markdown",
   "metadata": {},
   "source": [
    "## 1. Query Data From a Database Using SQL\n",
    "### SQL statements:\n",
    "- __SELECT__ is the clause we use every time we want to query information from a database.\n",
    "- __AS__ renames a column or table.\n",
    "- __DISTINCT__ return unique values.\n",
    "- __WHERE__ is a popular command that lets you filter the results of the query based on conditions that you specify.\n",
    "- __LIKE__ and __BETWEEN__ are special operators.\n",
    "- __AND__ and __OR__ combines multiple conditions.\n",
    "- __ORDER BY__ sorts the result.\n",
    "- __LIMIT__ specifies the maximum number of rows that the query will return.\n",
    "- __CASE__ creates different outputs."
   ]
  },
  {
   "cell_type": "code",
   "execution_count": null,
   "metadata": {},
   "outputs": [],
   "source": []
  }
 ],
 "metadata": {
  "kernelspec": {
   "display_name": "Python 3",
   "language": "python",
   "name": "python3"
  },
  "language_info": {
   "codemirror_mode": {
    "name": "ipython",
    "version": 3
   },
   "file_extension": ".py",
   "mimetype": "text/x-python",
   "name": "python",
   "nbconvert_exporter": "python",
   "pygments_lexer": "ipython3",
   "version": "3.7.1"
  }
 },
 "nbformat": 4,
 "nbformat_minor": 2
}
