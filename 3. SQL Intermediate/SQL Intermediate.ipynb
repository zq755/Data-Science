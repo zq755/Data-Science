{
 "cells": [
  {
   "cell_type": "markdown",
   "metadata": {},
   "source": [
    "## 1. Query Data From a Database Using SQL\n",
    "### Aggregate functions:\n",
    "- __COUNT()__: count the number of rows.\n",
    "- __SUM()__: the sum of the values in a column.\n",
    "- __MAX()/MIN()__: the largest/smallest value.\n",
    "- __AVG()__: the average of the values in a column.\n",
    "- __ROUND()__: round the values in the column.\n",
    "- __GROUP BY__ is a clause used with aggregate functions to combine data from one or more columns.\n",
    "- __HAVING__ limit the results of a query based on an aggregate property."
   ]
  },
  {
   "cell_type": "markdown",
   "metadata": {},
   "source": [
    "***\n",
    "## 2. Multiple Tables\n",
    "### Summarize:\n",
    "- __JOIN__ will combine rows from different tables if the join condition is true.\n",
    "- __LEFT JOIN__ will return every row in the _left_ table, and if the join condition is not met, __NULL__ values are used to fill in the columns from the right table.\n",
    "- _Primary key_ is a column that serves a unique identifier for the rows in the table.\n",
    "- _Foreign key_ is a column that contains the primary key to another table.\n",
    "- __CROSS JOIN__ lets us combine all rows of one table with all rows of another table.\n",
    "- __UNION__ stacks one dataset on top of another.\n",
    "- __WITH__ allows us to define one or more temporary tables that can be used in the final query."
   ]
  }
 ],
 "metadata": {
  "kernelspec": {
   "display_name": "Python 3",
   "language": "python",
   "name": "python3"
  },
  "language_info": {
   "codemirror_mode": {
    "name": "ipython",
    "version": 3
   },
   "file_extension": ".py",
   "mimetype": "text/x-python",
   "name": "python",
   "nbconvert_exporter": "python",
   "pygments_lexer": "ipython3",
   "version": "3.7.1"
  }
 },
 "nbformat": 4,
 "nbformat_minor": 2
}
