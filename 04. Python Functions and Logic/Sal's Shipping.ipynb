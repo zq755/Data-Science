{
 "cells": [
  {
   "cell_type": "markdown",
   "metadata": {},
   "source": [
    "## Project - Sal's Shipping"
   ]
  },
  {
   "cell_type": "markdown",
   "metadata": {},
   "source": [
    "First off, we need to know how much it costs to ship a package of given weight by normal ground shipping.<br>\n",
    "Write a function for the cost of ground shipping. This function should take one parameter, weight, and return the cost of shipping a package of that weight."
   ]
  },
  {
   "cell_type": "code",
   "execution_count": 1,
   "metadata": {},
   "outputs": [],
   "source": [
    "def ground_shipping(weight):\n",
    "  if weight <= 2:\n",
    "    price_per_pound = 1.50\n",
    "  if 2 < weight <= 6:\n",
    "    price_per_pound = 3.00\n",
    "  if 6 < weight <= 10:\n",
    "    price_per_pound = 4.00\n",
    "  if weight > 10:\n",
    "    price_per_pound = 4.75\n",
    "  return price_per_pound * weight + 20"
   ]
  },
  {
   "cell_type": "markdown",
   "metadata": {},
   "source": [
    "A package that weighs 8.4 pounds should cost $53.60 to ship with normal ground shipping:\n",
    "- 8.4 × 4.00 + 20.00 = 53.60\n",
    "\n",
    "Test that your ground shipping function gets the same value."
   ]
  },
  {
   "cell_type": "code",
   "execution_count": 2,
   "metadata": {},
   "outputs": [
    {
     "name": "stdout",
     "output_type": "stream",
     "text": [
      "53.6\n"
     ]
    }
   ],
   "source": [
    "print(ground_shipping(8.4))"
   ]
  },
  {
   "cell_type": "markdown",
   "metadata": {},
   "source": [
    "We'll also need to make sure we include the price of premium ground shipping in our code.<br>\n",
    "Create a variable for the cost of premium ground shipping.<br>\n",
    "Note: this does not need to be a function because the price of premium ground shipping does not change with the weight of the package."
   ]
  },
  {
   "cell_type": "code",
   "execution_count": 3,
   "metadata": {},
   "outputs": [],
   "source": [
    "cost_pgs = 125.00"
   ]
  },
  {
   "cell_type": "markdown",
   "metadata": {},
   "source": [
    "Write a function for the cost of drone shipping. This function should take one parameter, weight, and return the cost of shipping a package of that weight."
   ]
  },
  {
   "cell_type": "code",
   "execution_count": 4,
   "metadata": {},
   "outputs": [],
   "source": [
    "def drone_shipping(weight):\n",
    "  if weight <= 2:\n",
    "    price_per_pound = 4.50\n",
    "  if 2 < weight <= 6:\n",
    "    price_per_pound = 9.00\n",
    "  if 6 < weight <= 10:\n",
    "    price_per_pound = 12.00\n",
    "  if weight > 10:\n",
    "    price_per_pound = 14.25\n",
    "  return price_per_pound * weight"
   ]
  },
  {
   "cell_type": "markdown",
   "metadata": {},
   "source": [
    "A package that weighs 1.5 pounds should cost $6.75 to ship by drone:\n",
    "- 1.5 × 4.50 + 0.00 = 6.75\n",
    "\n",
    "Test that your drone shipping function gets the same value."
   ]
  },
  {
   "cell_type": "code",
   "execution_count": 5,
   "metadata": {},
   "outputs": [
    {
     "name": "stdout",
     "output_type": "stream",
     "text": [
      "6.75\n"
     ]
    }
   ],
   "source": [
    "print(drone_shipping(1.5))"
   ]
  },
  {
   "cell_type": "markdown",
   "metadata": {},
   "source": [
    "Using those two functions for ground shipping cost and drone shipping cost, as well as the cost of premium ground shipping, write a function that takes one parameter, weight and prints a statement that tells the user\n",
    "- The shipping method that is cheapest.\n",
    "- How much it would cost to ship a package of said weight using this method."
   ]
  },
  {
   "cell_type": "code",
   "execution_count": 6,
   "metadata": {},
   "outputs": [],
   "source": [
    "def cheapest(weight):\n",
    "  method = 'premium ground shipping'\n",
    "  min_cost = cost_pgs\n",
    "  cost_gs = ground_shipping(weight)\n",
    "  cost_ds = drone_shipping(weight)\n",
    "  if min_cost > cost_gs:\n",
    "    method = 'ground shipping'\n",
    "    min_cost = cost_gs\n",
    "  if min_cost > cost_ds:\n",
    "    method = 'drone_shipping'\n",
    "    min_cost = cost_ds\n",
    "  return method, min_cost"
   ]
  },
  {
   "cell_type": "markdown",
   "metadata": {},
   "source": [
    "Great job! Now, test your function!<br>\n",
    "What is the cheapest method of shipping a 4.8 pound package and how much would it cost?<br>\n",
    "What is the cheapest method of shipping a 41.5 pound package and how much would it cost?"
   ]
  },
  {
   "cell_type": "code",
   "execution_count": 7,
   "metadata": {},
   "outputs": [
    {
     "name": "stdout",
     "output_type": "stream",
     "text": [
      "The cheapest method is ground shipping. It would cost 34.40\n",
      "The cheapest method is premium ground shipping. It would cost 125.00\n"
     ]
    }
   ],
   "source": [
    "print('The cheapest method is %s. It would cost %.2f' %cheapest(4.8))\n",
    "print('The cheapest method is %s. It would cost %.2f' %cheapest(41.5))"
   ]
  }
 ],
 "metadata": {
  "kernelspec": {
   "display_name": "Python 3",
   "language": "python",
   "name": "python3"
  },
  "language_info": {
   "codemirror_mode": {
    "name": "ipython",
    "version": 3
   },
   "file_extension": ".py",
   "mimetype": "text/x-python",
   "name": "python",
   "nbconvert_exporter": "python",
   "pygments_lexer": "ipython3",
   "version": "3.7.1"
  }
 },
 "nbformat": 4,
 "nbformat_minor": 2
}
