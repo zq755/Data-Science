{
 "cells": [
  {
   "cell_type": "markdown",
   "metadata": {},
   "source": [
    "## Project - Betty's Bakery"
   ]
  },
  {
   "cell_type": "markdown",
   "metadata": {},
   "source": [
    "Start by importing NumPy as np."
   ]
  },
  {
   "cell_type": "code",
   "execution_count": 1,
   "metadata": {},
   "outputs": [],
   "source": [
    "import numpy as np"
   ]
  },
  {
   "cell_type": "markdown",
   "metadata": {},
   "source": [
    "All of Betty's recipes call for milk, eggs, sugar, flour, and butter. For example, her cupcake recipe calls for:\n",
    "- Flour; Sugar; Eggs; Milk; Butter\n",
    "- 2cups; 0.75cups; 2eggs; 1cups; 0.5cups\n",
    "\n",
    "Create a NumPy array that represents this data. Each element should be a number (i.e., 2 for \"2 cups\"). Save this array as cupcakes."
   ]
  },
  {
   "cell_type": "code",
   "execution_count": 2,
   "metadata": {},
   "outputs": [],
   "source": [
    "cupcakes = np.array([2, 0.75, 2, 1, 0.5])"
   ]
  },
  {
   "cell_type": "markdown",
   "metadata": {},
   "source": [
    "Betty's assistant has compiled all of her recipes into a csv (comma-separated variable) file called recipes.csv. Load this file into a variable called recipes."
   ]
  },
  {
   "cell_type": "code",
   "execution_count": 3,
   "metadata": {},
   "outputs": [],
   "source": [
    "recipes = np.genfromtxt('recipes.csv', delimiter = ',')"
   ]
  },
  {
   "cell_type": "markdown",
   "metadata": {},
   "source": [
    "Display recipes using print.<br>\n",
    "Each row represents a different recipe. Each column represents a different ingredient.\n",
    "- Recipe; Cups of Flour; Cups of Sugar; Eggs; Cups of Milk; Cups of Butter\n",
    "- Cupcakes; ...; ...; ...; ...; ...\n",
    "- Pancake; ...; ...; ...; ...; ...\n",
    "- Cookie; ...; ...; ...; ...; ...\n",
    "- Bread; ...; ...; ...; ...; ..."
   ]
  },
  {
   "cell_type": "code",
   "execution_count": 4,
   "metadata": {},
   "outputs": [
    {
     "name": "stdout",
     "output_type": "stream",
     "text": [
      "[[2.    0.75  2.    1.    0.5  ]\n",
      " [1.    0.125 1.    1.    0.125]\n",
      " [2.75  1.5   1.    0.    1.   ]\n",
      " [4.    0.5   2.    2.    0.5  ]]\n"
     ]
    }
   ],
   "source": [
    "print(recipes)"
   ]
  },
  {
   "cell_type": "markdown",
   "metadata": {},
   "source": [
    "The 3rd column represents the number of eggs that each recipe needs.<br>\n",
    "Select all elements from the 3rd column and save them to the variable eggs."
   ]
  },
  {
   "cell_type": "code",
   "execution_count": 5,
   "metadata": {},
   "outputs": [],
   "source": [
    "eggs = recipes[:, 2]"
   ]
  },
  {
   "cell_type": "markdown",
   "metadata": {},
   "source": [
    "Which recipes require exactly 1 egg? Use a logical statement to get True or False for each value of eggs."
   ]
  },
  {
   "cell_type": "code",
   "execution_count": 6,
   "metadata": {},
   "outputs": [
    {
     "data": {
      "text/plain": [
       "array([False,  True,  True, False])"
      ]
     },
     "execution_count": 6,
     "metadata": {},
     "output_type": "execute_result"
    }
   ],
   "source": [
    "eggs == 1"
   ]
  },
  {
   "cell_type": "markdown",
   "metadata": {},
   "source": [
    "Betty is going to make 2 batches of cupcakes (1st row) and 1 batch of cookies (3rd row).<br>\n",
    "You already have a variable for cupcakes. Create a variable for cookies with the data from the 3rd row."
   ]
  },
  {
   "cell_type": "code",
   "execution_count": 7,
   "metadata": {},
   "outputs": [
    {
     "name": "stdout",
     "output_type": "stream",
     "text": [
      "[2.75 1.5  1.   0.   1.  ]\n"
     ]
    }
   ],
   "source": [
    "cookies = recipes[2, :]\n",
    "\n",
    "print(cookies)"
   ]
  },
  {
   "cell_type": "markdown",
   "metadata": {},
   "source": [
    "Get the number of ingredients for a double batch of cupcakes by using multiplication on cupcakes. Save your new variable to double_batch."
   ]
  },
  {
   "cell_type": "code",
   "execution_count": 8,
   "metadata": {},
   "outputs": [
    {
     "name": "stdout",
     "output_type": "stream",
     "text": [
      "[4.  1.5 4.  2.  1. ]\n"
     ]
    }
   ],
   "source": [
    "double_batch = cupcakes * 2\n",
    "\n",
    "print(double_batch)"
   ]
  },
  {
   "cell_type": "markdown",
   "metadata": {},
   "source": [
    "Create a new variable called grocery_list by adding cookies and double_batch."
   ]
  },
  {
   "cell_type": "code",
   "execution_count": 9,
   "metadata": {},
   "outputs": [
    {
     "name": "stdout",
     "output_type": "stream",
     "text": [
      "[6.75 3.   5.   2.   2.  ]\n"
     ]
    }
   ],
   "source": [
    "grocery_list  = cookies + double_batch\n",
    "\n",
    "print(grocery_list)"
   ]
  }
 ],
 "metadata": {
  "kernelspec": {
   "display_name": "Python 3",
   "language": "python",
   "name": "python3"
  },
  "language_info": {
   "codemirror_mode": {
    "name": "ipython",
    "version": 3
   },
   "file_extension": ".py",
   "mimetype": "text/x-python",
   "name": "python",
   "nbconvert_exporter": "python",
   "pygments_lexer": "ipython3",
   "version": "3.7.1"
  }
 },
 "nbformat": 4,
 "nbformat_minor": 2
}
