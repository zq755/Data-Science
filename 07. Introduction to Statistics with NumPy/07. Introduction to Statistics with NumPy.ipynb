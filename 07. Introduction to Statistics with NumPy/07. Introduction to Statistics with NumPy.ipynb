{
 "cells": [
  {
   "cell_type": "markdown",
   "metadata": {},
   "source": [
    "## 1. Introduction to NumPy\n",
    "### Key points:\n",
    "- Arrays are a special type of list that allows us to store values in an organized manner.\n",
    "- An array can be created by either defining it directly using __np.array()__ or by importing a CSV using __np.genfromtxt('file.csv', delimiter=',')__.\n",
    "- An operation (such as addition) can be performed on every element in an array by simply performing it on the array itself.\n",
    "- Elements can be selected from arrays using their index and array locations, both of which start at 0.\n",
    "- Logical operations can be used to create new, more focused arrays out of larger arrays."
   ]
  },
  {
   "cell_type": "markdown",
   "metadata": {},
   "source": [
    "***\n",
    "## 2. Statistics in NumPy\n",
    "### Introduction to Statistics with NumPy:\n",
    "- Using the __np.sort__ method to locate outliers.\n",
    "- Calculating central positions of a dataset using __np.mean__ and __np.median__.\n",
    "- Understanding the spread of our data using percentiles and the interquartile range.\n",
    "- Finding the standard deviation of a dataset using __np.std__.\n",
    "\n",
    "### Statistical Distributions with NumPy:\n",
    "- What is a histogram and how to map one using Matplotlib\n",
    "- How to identify different dataset shapes, depending on __peaks__ or distribution of data\n",
    "- The definition of a __normal distribution__ and how to use NumPy to generate one using NumPy's random number functions\n",
    "- The relationships between normal distributions and __standard deviations__\n",
    "- The definition of a __binomial distribution__"
   ]
  }
 ],
 "metadata": {
  "kernelspec": {
   "display_name": "Python 3",
   "language": "python",
   "name": "python3"
  },
  "language_info": {
   "codemirror_mode": {
    "name": "ipython",
    "version": 3
   },
   "file_extension": ".py",
   "mimetype": "text/x-python",
   "name": "python",
   "nbconvert_exporter": "python",
   "pygments_lexer": "ipython3",
   "version": "3.7.1"
  }
 },
 "nbformat": 4,
 "nbformat_minor": 2
}
