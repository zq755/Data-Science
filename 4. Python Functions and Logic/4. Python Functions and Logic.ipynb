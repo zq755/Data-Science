{
 "cells": [
  {
   "cell_type": "markdown",
   "metadata": {},
   "source": [
    "## 1. Python Control Flow\n",
    "### Tools:\n",
    "- Boolean expressions are statements that can be either __True__ or __False__.\n",
    "- A boolean variable is a variable that is set to either __True__ or __False__.\n",
    "- You can create boolean expressions using relational operators:\n",
    " - Equals: __==__\n",
    " - Not equals: __!=__\n",
    " - Greater than: __>__\n",
    " - Greater than or equal to: __>=__\n",
    " - Less than: __<__\n",
    " - Less than or equal to: __<=__\n",
    "- __if__ statements can be used to create control flow in your code.\n",
    "- __else__ statements can be used to execute code when the conditions of an __if__ statement are not met.\n",
    "- __elif__ statements can be used to build additional checks into your __if__ statements.\n",
    "- __try__ and __except__ statements can be used to build error control into your code."
   ]
  },
  {
   "cell_type": "code",
   "execution_count": null,
   "metadata": {},
   "outputs": [],
   "source": []
  }
 ],
 "metadata": {
  "kernelspec": {
   "display_name": "Python 3",
   "language": "python",
   "name": "python3"
  },
  "language_info": {
   "codemirror_mode": {
    "name": "ipython",
    "version": 3
   },
   "file_extension": ".py",
   "mimetype": "text/x-python",
   "name": "python",
   "nbconvert_exporter": "python",
   "pygments_lexer": "ipython3",
   "version": "3.7.1"
  }
 },
 "nbformat": 4,
 "nbformat_minor": 2
}
