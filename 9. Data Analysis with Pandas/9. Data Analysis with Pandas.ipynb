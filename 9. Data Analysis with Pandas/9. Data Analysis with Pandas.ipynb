{
 "cells": [
  {
   "cell_type": "markdown",
   "metadata": {},
   "source": [
    "## 9. Data Analysis with Pandas\n",
    "### Methods for combining multiple DataFrames:\n",
    "- Creating a DataFrame made by matching the common columns of two DataFrames is called a __merge__.\n",
    "- We can specify which columns should be matches by using the keyword arguments __left_on__ and __right_on__.\n",
    "- We can combine DataFrames whose rows don't all match using __left__, __right__, and __outer__ merges and the __how__ keyword argument.\n",
    "- We can stack or concatenate DataFrames with the same columns using __pd.concat__."
   ]
  }
 ],
 "metadata": {
  "kernelspec": {
   "display_name": "Python 3",
   "language": "python",
   "name": "python3"
  },
  "language_info": {
   "codemirror_mode": {
    "name": "ipython",
    "version": 3
   },
   "file_extension": ".py",
   "mimetype": "text/x-python",
   "name": "python",
   "nbconvert_exporter": "python",
   "pygments_lexer": "ipython3",
   "version": "3.7.1"
  }
 },
 "nbformat": 4,
 "nbformat_minor": 2
}
