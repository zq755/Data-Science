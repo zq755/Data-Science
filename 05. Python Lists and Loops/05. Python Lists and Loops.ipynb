{
 "cells": [
  {
   "cell_type": "markdown",
   "metadata": {},
   "source": [
    "## 1. Python Lists\n",
    "### Creating and Modifying a List in Python:\n",
    "- Create a list.\n",
    "- Create a list of lists using __zip__.\n",
    "- Add elements to a list using either __.append()__ or __+__.\n",
    "- Use __range__ to create lists of integers.\n",
    "\n",
    "### Working with Lists in Python:\n",
    "- Get the length of a list.\n",
    "- Select subsets of a list (called _slicing_).\n",
    "- Count the number of times that an element appears in a list.\n",
    "- Sort a list of items."
   ]
  },
  {
   "cell_type": "markdown",
   "metadata": {},
   "source": [
    "***\n",
    "## 2. Python Loops\n",
    "### Summary:\n",
    "- Write a for loop.\n",
    "- Use __range__ in a loop.\n",
    "- Avoid infinite loops.\n",
    "- Skip values in a loop.\n",
    "- Write a while loop.\n",
    "- Make lists with one line."
   ]
  }
 ],
 "metadata": {
  "kernelspec": {
   "display_name": "Python 3",
   "language": "python",
   "name": "python3"
  },
  "language_info": {
   "codemirror_mode": {
    "name": "ipython",
    "version": 3
   },
   "file_extension": ".py",
   "mimetype": "text/x-python",
   "name": "python",
   "nbconvert_exporter": "python",
   "pygments_lexer": "ipython3",
   "version": "3.7.1"
  }
 },
 "nbformat": 4,
 "nbformat_minor": 2
}
