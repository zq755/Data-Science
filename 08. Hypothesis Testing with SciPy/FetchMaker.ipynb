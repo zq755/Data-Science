{
 "cells": [
  {
   "cell_type": "markdown",
   "metadata": {},
   "source": [
    "## Project - FetchMaker"
   ]
  },
  {
   "cell_type": "code",
   "execution_count": 1,
   "metadata": {},
   "outputs": [],
   "source": [
    "import numpy as np"
   ]
  },
  {
   "cell_type": "markdown",
   "metadata": {},
   "source": [
    "Let's start by including a data interface called fetchmaker that will give you access to FetchMaker's dog data.<br>\n",
    "Use import fetchmaker at the top of your script.py file to import the fetchmaker package."
   ]
  },
  {
   "cell_type": "code",
   "execution_count": 2,
   "metadata": {},
   "outputs": [],
   "source": [
    "import fetchmaker"
   ]
  },
  {
   "cell_type": "markdown",
   "metadata": {},
   "source": [
    "The attributes that FetchMaker keeps track of are:\n",
    "- weight, an integer representing how heavy a dog is in pounds\n",
    "- tail_length, a float representing tail length in inches\n",
    "- age, in years\n",
    "- color, a String such as \"brown\" or \"grey\"\n",
    "- is_rescue, a boolean 0 or 1\n",
    "\n",
    "The fetchmaker package lets you access this data for a specific breed of dog with the following format:\n",
    "- fetchmaker.get_weight(\"poodle\")\n",
    "\n",
    "This returns a Pandas DataFrame of the weights of the poodles recorded in the system. The other methods are get_tail_length, get_color, get_age, and get_is_rescue, which all take a breed as an input.<br>\n",
    "Get the tail lengths of all of the \"rottweiler\"s in the system, and store it in a variable called rottweiler_tl."
   ]
  },
  {
   "cell_type": "code",
   "execution_count": 3,
   "metadata": {},
   "outputs": [],
   "source": [
    "rottweiler_tl = fetchmaker.get_tail_length('rottweiler')"
   ]
  },
  {
   "cell_type": "markdown",
   "metadata": {},
   "source": [
    "Print out the mean of rottweiler_tl and the standard deviation of rottweiler_tl, using np.mean and np.std."
   ]
  },
  {
   "cell_type": "code",
   "execution_count": 4,
   "metadata": {},
   "outputs": [
    {
     "name": "stdout",
     "output_type": "stream",
     "text": [
      "mean: 4.236100, standard deviation: 2.064754\n"
     ]
    }
   ],
   "source": [
    "print('mean: %0.6f, standard deviation: %0.6f' %(np.mean(rottweiler_tl), np.std(rottweiler_tl)))"
   ]
  },
  {
   "cell_type": "markdown",
   "metadata": {},
   "source": [
    "Over the years, we have seen that we expect 8% of dogs in the FetchMaker system to be rescues. We want to know if whippets are significantly more or less likely to be a rescue.<br>\n",
    "Store the is_rescue values for \"whippet\"s in a variable called whippet_rescue."
   ]
  },
  {
   "cell_type": "code",
   "execution_count": 5,
   "metadata": {},
   "outputs": [],
   "source": [
    "whippet_rescue = fetchmaker.get_is_rescue('whippet')"
   ]
  },
  {
   "cell_type": "markdown",
   "metadata": {},
   "source": [
    "Use np.count_nonzero to get the number of entries in whippet_rescue that are 1. Store this number in a variable called num_whippet_rescues."
   ]
  },
  {
   "cell_type": "code",
   "execution_count": 6,
   "metadata": {},
   "outputs": [],
   "source": [
    "num_whippet_rescues = np.count_nonzero(whippet_rescue)"
   ]
  },
  {
   "cell_type": "markdown",
   "metadata": {},
   "source": [
    "Get the number of samples in the whippet set by taking the np.size of whippet_rescue. Store this in a variable called num_whippets."
   ]
  },
  {
   "cell_type": "code",
   "execution_count": 7,
   "metadata": {},
   "outputs": [],
   "source": [
    "num_whippets = np.size(whippet_rescue)"
   ]
  },
  {
   "cell_type": "markdown",
   "metadata": {},
   "source": [
    "Use a binomial test to test the number of whippet rescues, num_whippet_rescues, against our expected percentage, 8%.<br>\n",
    "Remember to import the binomial test by using from scipy.stats import binom_test."
   ]
  },
  {
   "cell_type": "code",
   "execution_count": 8,
   "metadata": {},
   "outputs": [],
   "source": [
    "from scipy.stats import binom_test"
   ]
  },
  {
   "cell_type": "markdown",
   "metadata": {},
   "source": [
    "Print out the p-value. Is your result significant?"
   ]
  },
  {
   "cell_type": "code",
   "execution_count": 9,
   "metadata": {},
   "outputs": [
    {
     "name": "stdout",
     "output_type": "stream",
     "text": [
      "0.581178\n"
     ]
    }
   ],
   "source": [
    "print('%.06f' %binom_test(num_whippet_rescues, num_whippets, .08))"
   ]
  },
  {
   "cell_type": "markdown",
   "metadata": {},
   "source": [
    "Three of our most popular mid-sized dog breeds are whippets, terriers, and pitbulls. Is there a significant difference in the average weights of these three dog breeds? Perform a comparative numerical test to determine if there is a significant difference."
   ]
  },
  {
   "cell_type": "code",
   "execution_count": 10,
   "metadata": {},
   "outputs": [
    {
     "name": "stdout",
     "output_type": "stream",
     "text": [
      "0.000000\n"
     ]
    }
   ],
   "source": [
    "from scipy.stats import f_oneway\n",
    "\n",
    "w = fetchmaker.get_weight('whippet')\n",
    "t = fetchmaker.get_weight('terrier')\n",
    "p = fetchmaker.get_weight('pitbull')\n",
    "print('%.06f' %f_oneway(w, t, p).pvalue)"
   ]
  },
  {
   "cell_type": "markdown",
   "metadata": {},
   "source": [
    "Now, perform another test to determine which of the pairs of these dog breeds differ from each other."
   ]
  },
  {
   "cell_type": "code",
   "execution_count": 11,
   "metadata": {},
   "outputs": [
    {
     "name": "stdout",
     "output_type": "stream",
     "text": [
      "Multiple Comparison of Means - Tukey HSD,FWER=0.05\n",
      "==============================================\n",
      " group1  group2 meandiff  lower  upper  reject\n",
      "----------------------------------------------\n",
      "pitbull terrier  -13.24  -16.728 -9.752  True \n",
      "pitbull whippet  -3.34    -6.828 0.148  False \n",
      "terrier whippet   9.9     6.412  13.388  True \n",
      "----------------------------------------------\n"
     ]
    }
   ],
   "source": [
    "from statsmodels.stats.multicomp import pairwise_tukeyhsd\n",
    "\n",
    "values = np.concatenate([w, t, p])\n",
    "labels = ['whippet'] * len(w) + ['terrier'] * len(t) + ['pitbull'] * len(p)\n",
    "print(pairwise_tukeyhsd(values, labels, .05))"
   ]
  },
  {
   "cell_type": "markdown",
   "metadata": {},
   "source": [
    "We want to see if \"poodle\"s and \"shihtzu\"s have significantly different color breakdowns.<br>\n",
    "Get the poodle colors and store it in a variable called poodle_colors.<br>\n",
    "Get the shih tzu colors and store it in a variable called shihtzu_colors."
   ]
  },
  {
   "cell_type": "code",
   "execution_count": 12,
   "metadata": {},
   "outputs": [],
   "source": [
    "poodle_colors = fetchmaker.get_color('poodle')\n",
    "shihtzu_colors = fetchmaker.get_color('shihtzu')"
   ]
  },
  {
   "cell_type": "markdown",
   "metadata": {},
   "source": [
    "\n",
    "You can get the number of occurrences of brown poodles by using np.count_nonzero(poodle_colors == \"brown\").<br>\n",
    "Use this function to build a Chi Square contingency table, called color_table, with the following structure:\n",
    "- Poodle\tShih Tzu\n",
    "- Black\tx\tx\n",
    "- Brown\tx\tx\n",
    "- Gold\tx\tx\n",
    "- Grey\tx\tx\n",
    "- White\tx\tx\n",
    "\n",
    "Fill in the \"x\" entries with the number of each poodle or shih tzu with the specified color."
   ]
  },
  {
   "cell_type": "code",
   "execution_count": 13,
   "metadata": {},
   "outputs": [],
   "source": [
    "color_table = [[np.count_nonzero(poodle_colors == \"black\"), np.count_nonzero(shihtzu_colors == \"black\")], \n",
    "               [np.count_nonzero(poodle_colors == \"brown\"), np.count_nonzero(shihtzu_colors == \"brown\")], \n",
    "               [np.count_nonzero(poodle_colors == \"gold\"), np.count_nonzero(shihtzu_colors == \"gold\")], \n",
    "               [np.count_nonzero(poodle_colors == \"grey\"), np.count_nonzero(shihtzu_colors == \"grey\")], \n",
    "               [np.count_nonzero(poodle_colors == \"white\"), np.count_nonzero(shihtzu_colors == \"white\")]]"
   ]
  },
  {
   "cell_type": "markdown",
   "metadata": {},
   "source": [
    "Feed your color_table into SciPy's Chi Square test, save the p-value and print it out.<br>\n",
    "Is there a significant difference?"
   ]
  },
  {
   "cell_type": "code",
   "execution_count": 14,
   "metadata": {},
   "outputs": [
    {
     "name": "stdout",
     "output_type": "stream",
     "text": [
      "0.005302\n"
     ]
    }
   ],
   "source": [
    "from scipy.stats import chi2_contingency\n",
    "\n",
    "_, color_pval, _, _ = chi2_contingency(color_table)\n",
    "print('%.06f' %color_pval)"
   ]
  },
  {
   "cell_type": "markdown",
   "metadata": {},
   "source": [
    "Great job!<br>\n",
    "Feel free to play around with fetchmaker more and run some hypothesis tests of your own.<br>\n",
    "The breeds you can explore are \"poodle\", \"rottweiler\", \"whippet\", \"greyhound\", \"terrier\", \"chihuahua\", \"shihtzu\", and \"pitbull\"."
   ]
  }
 ],
 "metadata": {
  "kernelspec": {
   "display_name": "Python 3",
   "language": "python",
   "name": "python3"
  },
  "language_info": {
   "codemirror_mode": {
    "name": "ipython",
    "version": 3
   },
   "file_extension": ".py",
   "mimetype": "text/x-python",
   "name": "python",
   "nbconvert_exporter": "python",
   "pygments_lexer": "ipython3",
   "version": "3.7.1"
  }
 },
 "nbformat": 4,
 "nbformat_minor": 2
}
